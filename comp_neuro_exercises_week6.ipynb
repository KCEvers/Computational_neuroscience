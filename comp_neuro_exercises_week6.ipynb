{
  "nbformat": 4,
  "nbformat_minor": 0,
  "metadata": {
    "colab": {
      "name": "comp_neuro_exercises_week6_handin.ipynb",
      "provenance": [],
      "collapsed_sections": [],
      "authorship_tag": "ABX9TyPscleZpZI2Y6gD9n1lPxJ6",
      "include_colab_link": true
    },
    "kernelspec": {
      "name": "python3",
      "display_name": "Python 3"
    }
  },
  "cells": [
    {
      "cell_type": "markdown",
      "metadata": {
        "id": "view-in-github",
        "colab_type": "text"
      },
      "source": [
        "<a href=\"https://colab.research.google.com/github/daphnecor/Computational_neuroscience/blob/main/comp_neuro_exercises_week6.ipynb\" target=\"_parent\"><img src=\"https://colab.research.google.com/assets/colab-badge.svg\" alt=\"Open In Colab\"/></a>"
      ]
    },
    {
      "cell_type": "markdown",
      "metadata": {
        "id": "1WDRe5RyXSgK"
      },
      "source": [
        "## Computational neuroscience week 6 [information theory]\n",
        "\n",
        "```python\n",
        "Students = {s1066862: 'Daphne Cornelisse', s4572408: 'Kyra Evers'}\n",
        "```"
      ]
    },
    {
      "cell_type": "code",
      "metadata": {
        "id": "tjezvRPgYp3T"
      },
      "source": [
        "import matplotlib.pyplot as plt\n",
        "import numpy as np\n",
        "from matplotlib.lines import Line2D\n",
        "from scipy.optimize import fsolve\n",
        "from scipy.integrate import solve_ivp\n",
        "from scipy.stats import truncnorm\n",
        "import scipy "
      ],
      "execution_count": null,
      "outputs": []
    },
    {
      "cell_type": "markdown",
      "metadata": {
        "id": "-wzOuPBeF48M"
      },
      "source": [
        "## Problem 1: entropy rate of a Poisson process"
      ]
    },
    {
      "cell_type": "markdown",
      "metadata": {
        "id": "6RNv8ms3Zzcw"
      },
      "source": [
        "Our aim is to quantify the amount of information contained in a neural signal. As neural signals contain randomness, this is a non-trivial process. We will use entropy and information theory to express [...]"
      ]
    },
    {
      "cell_type": "markdown",
      "metadata": {
        "id": "jWtgiImxGC95"
      },
      "source": [
        "### 1a) \n",
        "\n",
        "Let $X$ be the discrete random variable that represents the number of spikes observed over a given time period. Let $r$ be the expected value (average) of $X$ (firing rate). If $X$ follows a Poisson distribution, then the probability of observing $k$ events (spikes) over a time period $T$ is [1]:\n",
        "\n",
        "\\begin{align}\n",
        "  \\mathbb{P}_T(X=k) = \\frac{(rT)^k}{k!} e^{-rT}\n",
        "\\end{align}\n",
        "\n",
        "here, the assumption is that at each point the probability of a spike is equal to the expected value $r$ times a interval $\\Delta t$. We set $\\mathbb{p} = r \\Delta t$ and define the probability of a spike as $p_s$ and the probability of no spike as $p_{ns}$. \n",
        "\n",
        "\\begin{align}\n",
        "  p_s &= \\mathbb{p} \\\\\n",
        "  p_{ns} &= 1 - \\mathbb{p}\n",
        "\\end{align}\n",
        "\n",
        "The binary entropy is then:\n",
        "\n",
        "\\begin{align}\n",
        "H(\\mathbb{p}) &= \\color{red}{- \\mathbb{p} \\log_2 \\mathbb{p}} - \\color{blue}{(1 - \\mathbb{p}) \\log_2 (1 - \\mathbb{p})}  \\\\\n",
        "  & \\text{if } \\mathbb{p} \\ll 1 \\\\\n",
        "  &= (0) - (1 \\log_2 1) \\\\\n",
        "  &= 0\n",
        "\\end{align}\n",
        "\n",
        "where $\\color{red}{- \\mathbb{p} \\log_2 \\mathbb{p}}$ is taken to be 0. When $\\mathbb{p}$ tends to 0, $\\log_2 \\mathbb{p}$ goes to $\\infty$. Linear terms grow faster than logarithmic and thus this whole term cancels out.  \n",
        "\n",
        "we see that when $\\mathbb{p} \\rightarrow 0$, $H(\\mathbb{p}) \\rightarrow 0$ which indicates high certainty about the outcome, or in other words, the variability of the distribution is extremely low. Generally, the binary entropy is low when $\\mathbb{p}$ is close to 0 or $\\mathbb{p}$ is close to 1    (i.e. extremes). The binary entropy is maximised when $\\mathbb{p}=\\frac{1}{2}$, when both outcomes are equally likely.\n",
        "\n",
        "The entropy typically grows linearly with the length of the period $T$. Hence, it is often preferred to state the entropy rate (total entropy/period). As the total entropy tends to 0, the entropy rate will do so as well. "
      ]
    },
    {
      "cell_type": "markdown",
      "metadata": {
        "id": "-Qo-gCQwgIkR"
      },
      "source": [
        "### 1b) \n",
        "\n",
        "\n",
        "In this exercise we are asked to determine the entropy per interspike interval and convert it to an entropy rate.\n",
        "\n",
        "<!-- The probability of an interspike interval falling in the range between $(\\tau, \\tau + \\Delta \\tau)$ is given by the ISI probability density $p[\\tau]\\Delta \\tau$. -->\n",
        "\n",
        "In the general case, the entropy rate $\\dot H$ for a spike train with an ISI distribution $\\mathbb{p}(t)$ and average firing rate $r$ is computed as [3]:\n",
        "\n",
        "\\begin{align}\n",
        "  \\dot H & \\leq - r \\int_0^{\\infty} \\mathbb{p}(t) \\log_2 \\mathbb{p}((t)\\Delta t) dt \n",
        "\\end{align}\n",
        "\n",
        "which indicates an upper bound for the entropy rate. In practice, the entropy rate may be lower due to correlations in the data. However, given was that the spike train follows a homogeneous Poisson Process with firing rate $r$:\n",
        "\n",
        "\\begin{align}\n",
        "  \\mathbb{p}(t) = r e^{-rt}\n",
        "\\end{align}\n",
        "\n",
        "so we assume that the interspikes are statistically independent. The inequality thus becomes an equality. Integration yields\n",
        "\n",
        "\\begin{align}\n",
        "\\dot H &= - r \\int_0^{\\infty} \\mathbb{p}(t) \\log_2 \\mathbb{p}((t)\\Delta t) dt \\\\\n",
        "        &= - r \\int_0^{\\infty} \\color{blue}{(r e^{-rt})} \\log_2 \\color{blue}{(r e^{-rt})} \\Delta t dt \\\\\n",
        "        & * \\text{u subs & integration by parts } *\n",
        "\\end{align}\n",
        "\n",
        "\n",
        "This results in the **Poisson entropy rate**\n",
        "\n",
        "\\begin{align}\n",
        "\\dot H = \\frac{r}{\\log_2} (1 - \\log_2 (r \\Delta t)) \n",
        "\\end{align}"
      ]
    },
    {
      "cell_type": "code",
      "metadata": {
        "colab": {
          "base_uri": "https://localhost:8080/",
          "height": 354
        },
        "cellView": "form",
        "id": "o1RmhgXIWr9o",
        "outputId": "9f1ed8f7-b8d0-4c2f-8a87-2182ce3212f9"
      },
      "source": [
        "#@title Distribution of interspike intervals\n",
        "\n",
        "r = 50 \n",
        "dt = 0.001 \n",
        "t = 1.00\n",
        "times = np.arange(0, t+dt, dt)\n",
        "pt = np.random.rand(len(times)) \n",
        "spikes = lambda r, dt: r * dt \n",
        "\n",
        "spike_train = (np.repeat(spikes(r, dt), len(times)) > pt).astype('float64')\n",
        "spike_times = np.array(np.where(spike_train == 1)) \n",
        "spike_intervals = spike_times[0, 1:spike_times.shape[1]] - spike_times[0, 0:spike_times.shape[1] - 1]\n",
        "\n",
        "fig, (ax1, ax2) = plt.subplots(1, 2, figsize=(15,5))\n",
        "ax1.set_title('Raster plot', fontsize=14)\n",
        "ax1.eventplot(spike_times, colors='darkblue')\n",
        "ax1.set_xlabel('time (ms)', fontsize=14)\n",
        "\n",
        "ax2.hist(spike_intervals, color='darkblue')\n",
        "ax2.set_title('Distribution of interspike intervals', fontsize=14)\n",
        "ax2.set_xlabel('interspike times', fontsize=14)\n",
        "ax2.set_ylabel('frequency (Hz)', fontsize=14);"
      ],
      "execution_count": null,
      "outputs": [
        {
          "output_type": "display_data",
          "data": {
            "image/png": "[encoded data removed]",
            "text/plain": [
              "<Figure size 1080x360 with 2 Axes>"
            ]
          },
          "metadata": {
            "tags": [],
            "needs_background": "light"
          }
        }
      ]
    },
    {
      "cell_type": "markdown",
      "metadata": {
        "id": "5EqQ-ENFhRDc"
      },
      "source": [
        "## Problem 2: bias in entropy and Strong's method\n"
      ]
    },
    {
      "cell_type": "markdown",
      "metadata": {
        "id": "nwSG4yV7hbMW"
      },
      "source": [
        "### 2a)"
      ]
    },
    {
      "cell_type": "markdown",
      "metadata": {
        "id": "mrDw8mrM9__g"
      },
      "source": [
        "Consider the stimulus response relationship $\\mathbb{p}(r|s)$ with 3 possible stimuli and 4 possible responses, resulting in a $4 \\times 3$ matrix that encodes the probabilities. We assume the prior is given as $\\mathbb{p} = \\left[ \\frac{1}{3}, \\frac{1}{3}, \\frac{1}{3} \\right]$.\n",
        "\n",
        "\\begin{align}\n",
        "\\mathbb{p}(r) &= \\sum_s \\mathbb{p}(r|s) \\mathbb{p}(s) \\\\\n",
        "              &= \\mathbb{p}(\\mathbf{r} | \\mathbf{s}) \\cdot \\mathbb{p}(\\mathbf{s}) \\\\\n",
        "              &=  \\begin{pmatrix} \\frac{1}{3} \\\\ \\frac{1}{3} \\\\ \\frac{1}{6} \\\\ \\frac{1}{6} \\end{pmatrix}\n",
        "\\end{align}\n",
        "\n",
        "The response entropy is then\n",
        "\n",
        "\\begin{align}\n",
        "\\color{darkred}{H(R)} &= - \\sum_{r} \\mathbb{p}(r) \\log_2 \\mathbb{p}(r) \\\\\n",
        "&= \\left[ 2 \\left( \\frac{1}{3} \\log_2 \\frac{1}{3} \\right) \\right] + \\left[ 2 \\left( \\frac{1}{6} \\log_2 \\frac{1}{6} \\right) \\right] \\\\\n",
        "&= - \\frac{2}{3}\\log _2 3 - \\frac{1}{3}\\log _2 6 \\\\\n",
        "&= - \\left( \\log_2 3^{\\frac{2}{3}} +   \\log_2 6^{\\frac{1}{3}} \\right) \\\\\n",
        "&= - \\log_2 (3^{\\frac{2}{3}} \\cdot 6^{\\frac{1}{3}}) \\\\\n",
        "&= - \\log_2 (3 \\cdot 2^{\\frac{1}{3}}) \\\\\n",
        "& \\approx 1.918\n",
        "\\end{align}\n",
        "\n",
        "and the noise entropy is \n",
        "\n",
        "\\begin{align}\n",
        "\\color{darkblue}{H(R|S)} &= \\sum_{r,s} \\mathbb{p}(s) \\mathbb{p}(r | s) \\log_2 \\mathbb{p}(r | s) \\\\\n",
        "  &= \\mathbb{p}(\\bf{s}) \\mathbb{p}(r | s) \\log_2 \\mathbb{p}(r | s) \\\\\n",
        "  &  \\approx 1.295\n",
        "\\end{align}\n",
        "\n",
        "subsequently, the exact mutual information $I(R|S)$ is:\n",
        "\n",
        "\\begin{align}\n",
        "I(R|S) &= \\color{darkred}{H(R)} - \\color{darkblue}{H(R|S)} \\\\\n",
        "       &= \\color{darkred}{1.918} - \\color{darkblue}{1.295} \\\\\n",
        "       &= 0.623 \\\\\n",
        "\\end{align}"
      ]
    },
    {
      "cell_type": "code",
      "metadata": {
        "id": "zbMV3L_MHsMR"
      },
      "source": [
        "P_rs = np.array([[2/3, 5/18, 1/18], \n",
        "                 [5/18, 2/3, 1/18], \n",
        "                 [1/36, 1/36, 4/9], \n",
        "                 [1/36, 1/36, 4/9]])\n",
        "P_s = np.array([1/3, 1/3, 1/3])\n",
        "\n",
        "P_r = P_rs @ P_s\n",
        "\n",
        "HR_exact = - np.sum(np.multiply(P_r, np.log2(P_r, where=P_r > 0))) \n",
        "HRS_exact = - np.dot(P_s, np.sum(np.multiply(P_rs, np.log2(P_rs)), axis = 0))"
      ],
      "execution_count": null,
      "outputs": []
    },
    {
      "cell_type": "markdown",
      "metadata": {
        "id": "0R0T0s2D6f_n"
      },
      "source": [
        "### 2b) \n",
        "\n",
        "We have 3 stimuli and 4 possible responses. For each generated response of a stimulus\n",
        "$$\n",
        "s_i \\in \\{s_1, s_2, s_3 \\}\n",
        "$$\n",
        "the corresponding column in $\\mathbb{p}(r|s)$ is taken and assigned to the response\n",
        "$$\n",
        "r_k \\in \\{r_1, r_2, r_3, r_4 \\}\n",
        "$$\n",
        "with the highest probability. We generate $N_s$ pairs for each stimulus of $(s_i, r_k)$. As there are 3 stimuli this leads to a total of $N = 3 N_s$ responses."
      ]
    },
    {
      "cell_type": "code",
      "metadata": {
        "id": "rL-QAMIslfCs"
      },
      "source": [
        "def generate_rs_pairs(P_rs, Ns=1000):\n",
        "  pairs = np.zeros([Ns, P_rs.shape[1]])\n",
        "  \n",
        "  for s in range(P_rs.shape[1]): \n",
        "    for r in range(Ns): \n",
        "      pairs[r, s] = np.random.choice([1,2,3,4], p=P_rs[:, s])\n",
        "  return pairs"
      ],
      "execution_count": null,
      "outputs": []
    },
    {
      "cell_type": "code",
      "metadata": {
        "id": "k9rREYbtnixw"
      },
      "source": [
        "P_rs = np.array([[2/3, 5/18, 1/18], \n",
        "                 [5/18, 2/3, 1/18], \n",
        "                 [1/36, 1/36, 4/9], \n",
        "                 [1/36, 1/36, 4/9]])\n",
        "P_s = np.array([1/3, 1/3, 1/3])\n",
        "\n",
        "RS_pairs = generate_rs_pairs(P_rs, Ns=1000)"
      ],
      "execution_count": null,
      "outputs": []
    },
    {
      "cell_type": "code",
      "metadata": {
        "colab": {
          "base_uri": "https://localhost:8080/"
        },
        "id": "u81mrx3blfPb",
        "outputId": "f6d4a71e-e00f-437d-8c01-fc6f6a98b4b5"
      },
      "source": [
        "RS_pairs[:10]"
      ],
      "execution_count": null,
      "outputs": [
        {
          "output_type": "execute_result",
          "data": {
            "text/plain": [
              "array([[1., 2., 4.],\n",
              "       [1., 1., 3.],\n",
              "       [2., 1., 3.],\n",
              "       [2., 2., 4.],\n",
              "       [1., 1., 4.],\n",
              "       [1., 1., 4.],\n",
              "       [2., 2., 4.],\n",
              "       [1., 2., 3.],\n",
              "       [1., 2., 4.],\n",
              "       [1., 2., 1.]])"
            ]
          },
          "metadata": {
            "tags": []
          },
          "execution_count": 6
        }
      ]
    },
    {
      "cell_type": "markdown",
      "metadata": {
        "id": "E0K9xHun6gXW"
      },
      "source": [
        "### 2c)\n",
        "\n",
        "We want to naively estimate $\\mathbb{p}(r|s)$ based on $N=1000$ samples using that:\n",
        "\n",
        "\\begin{align}\n",
        "\\mathbb{p}(r_i | s_i) = \\frac{\\text{number of observed } r_i}{N_s}\n",
        "\\end{align}"
      ]
    },
    {
      "cell_type": "code",
      "metadata": {
        "id": "oAy-wFGGOIh2",
        "colab": {
          "base_uri": "https://localhost:8080/"
        },
        "outputId": "3f6049f2-220f-4e15-fb1c-d08eab4c6420"
      },
      "source": [
        "'''\n",
        "Naively estimate P(r|s) by counting the occurences of each response (1,2,3,4) for each stimulus. \n",
        "'''\n",
        "num_P_rs = np.zeros((P_rs.shape[0], P_rs.shape[1]))\n",
        "\n",
        "for resp in [1, 2, 3, 4]:\n",
        "  num_P_rs[resp-1, :] = np.count_nonzero(RS_pairs == resp, axis=0) / 1000\n",
        "\n",
        "print(f'numerical P(r|s):\\n {num_P_rs} \\n')\n",
        "print(f'true P(r|s):\\n {P_rs}')"
      ],
      "execution_count": null,
      "outputs": [
        {
          "output_type": "stream",
          "text": [
            "numerical P(r|s):\n",
            " [[0.645 0.264 0.069]\n",
            " [0.296 0.671 0.056]\n",
            " [0.021 0.045 0.428]\n",
            " [0.038 0.02  0.447]] \n",
            "\n",
            "true P(r|s):\n",
            " [[0.66666667 0.27777778 0.05555556]\n",
            " [0.27777778 0.66666667 0.05555556]\n",
            " [0.02777778 0.02777778 0.44444444]\n",
            " [0.02777778 0.02777778 0.44444444]]\n"
          ],
          "name": "stdout"
        }
      ]
    },
    {
      "cell_type": "markdown",
      "metadata": {
        "id": "TSyAGFSF-w-S"
      },
      "source": [
        "### 2d) \n",
        "\n",
        "Here, we estimate the response entropy $H(R)$ and noise entropy $H(R|S)$ as a function of N. Strong et al., (1998) showed that the entropy estimate can be rewritten as a power of N as:\n",
        "\n",
        "\\begin{align}\n",
        "  H(N) = H_{\\infty} + \\frac{a}{N} + \\frac{b}{N^2}\n",
        "\\end{align}\n",
        "\n",
        "where $H(R)$ is the estimate we currently have and $H_{\\infty}$ is the entropy we want to find by fitting a polynomial curve through our estimate. \n"
      ]
    },
    {
      "cell_type": "code",
      "metadata": {
        "id": "2R1zejli_LyJ"
      },
      "source": [
        "def estimator(iters, P_rs, P_s, Ns_range):\n",
        "  '''estimates the response entropy H(R) and noise entropy H(R|S) based on a number of samples. \n",
        "  '''\n",
        "  H_R = np.zeros((iters, len(Ns_range)))\n",
        "  H_RS = np.zeros((iters,len(Ns_range)))\n",
        "  \n",
        "  for i in range(iters): \n",
        "    for v in range(len(Ns_range)):\n",
        "      rs_pairs = generate_rs_pairs(P_rs, Ns=Ns_range[v])\n",
        "      num_P_rs = np.zeros((P_rs.shape[0], P_rs.shape[1]))\n",
        "\n",
        "      for resp in [1, 2, 3, 4]:\n",
        "        num_P_rs[resp-1, :] = np.count_nonzero(RS_pairs == resp, axis=0) / Ns_range[v]\n",
        "\n",
        "        P_r = P_rs @ P_s\n",
        "\n",
        "        HR_iv = - P_r @ np.log2(P_r, where=P_r > 0)\n",
        "        H_R[i, v] = HR_iv \n",
        "      \n",
        "      HRS_i = - P_s @ (np.sum(np.multiply(num_P_rs, np.log2(P_rs, where=P_rs>0)), axis=0))\n",
        "      H_RS[i, v] = HRS_i\n",
        "      \n",
        "  return H_R, H_RS"
      ],
      "execution_count": null,
      "outputs": []
    },
    {
      "cell_type": "code",
      "metadata": {
        "id": "hd0T7Oqv9kdG"
      },
      "source": [
        "Ns_range = (np.round(10**(np.arange(1, 4+.5, .25)) / 3)).astype(int)\n",
        "\n",
        "H_R, H_RS = estimator(10, P_rs, P_s, Ns_range)"
      ],
      "execution_count": null,
      "outputs": []
    },
    {
      "cell_type": "code",
      "metadata": {
        "colab": {
          "base_uri": "https://localhost:8080/"
        },
        "id": "OPx1mta3_L_3",
        "outputId": "fbbb94e8-e475-4e08-8479-97629710dec3"
      },
      "source": [
        "'''\n",
        "Fit curve through mean H(R) and H(R|S) as a function of N\n",
        "'''\n",
        "\n",
        "H_inf = lambda N, y0, a, b: y0 + (a/N) + (b/N) \n",
        "\n",
        "strong_HR, _ = scipy.optimize.curve_fit(H_inf, xdata=Ns_range, ydata=np.mean(H_R, axis=0))\n",
        "intercept_HR, _, _ = strong_HR\n",
        "\n",
        "strong_HRS, _ = scipy.optimize.curve_fit(H_inf, xdata=Ns_range, ydata=np.mean(H_RS, axis=0))\n",
        "intercept_HRS, _, _ = strong_HRS"
      ],
      "execution_count": null,
      "outputs": [
        {
          "output_type": "stream",
          "text": [
            "/usr/local/lib/python3.6/dist-packages/scipy/optimize/minpack.py:808: OptimizeWarning: Covariance of the parameters could not be estimated\n",
            "  category=OptimizeWarning)\n"
          ],
          "name": "stderr"
        }
      ]
    },
    {
      "cell_type": "markdown",
      "metadata": {
        "id": "WKF3Kyrzx0tP"
      },
      "source": [
        "In the top row, $N$ is plotted on a $log_{10}$ scale. In the bottom row, $\\frac{1}{N}$ is plotted. Note that extrapolating Strong's estimate to $\\frac{1}{N}$, meaning that we take the intercept $H_{\\infty}$ of the fitted polynomial curve, it is very close to the exact entropy for both $H(R)$ and $H(R|S)$. Consequently, the extrapolated mutual information is very close to the exact mutual information. Our numnerical estimate converges to the exact entropy for $N \\approx 10^{2.5}$."
      ]
    },
    {
      "cell_type": "markdown",
      "metadata": {
        "id": "_Nxdz-efxj0M"
      },
      "source": [
        "![plots.png](data:image/png;base64,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)"
      ]
    },
    {
      "cell_type": "markdown",
      "metadata": {
        "id": "Rg8zV9ecoy-F"
      },
      "source": [
        "The size of the bias for $N=30$ samples:"
      ]
    },
    {
      "cell_type": "code",
      "metadata": {
        "colab": {
          "base_uri": "https://localhost:8080/"
        },
        "id": "9Qz8qmOgkOnB",
        "outputId": "d806a2c9-5f7f-4aca-fdd2-bb649e227715"
      },
      "source": [
        "N = 30\n",
        "Ns = int(N/3)\n",
        "\n",
        "rs_pairs = generate_rs_pairs(P_rs, Ns) # make pairs\n",
        "num_P_rs = np.zeros((P_rs.shape[0], P_rs.shape[1]))\n",
        "\n",
        "for resp in [1, 2, 3, 4]:\n",
        "  num_P_rs[resp-1, :] = np.count_nonzero(rs_pairs == resp, axis=0) / Ns \n",
        "\n",
        "P_r = np.dot(num_P_rs, P_s)\n",
        "\n",
        "HR_estimate_30 = - np.dot(P_r, np.log2(P_r, where=P_r > 0))\n",
        "HRS_estimate_30 = - np.dot(P_s, np.sum(np.multiply(P_rs, np.log2(num_P_rs, where=num_P_rs > 0)), axis = 0))\n",
        "\n",
        "print(f'numerical P(r|s):\\n {num_P_rs} \\n')\n",
        "print(f'true P(r|s):\\n {P_rs}')\n",
        "\n",
        "print(f'\\n For N = {N} samples, the response entropy is {round(HR_estimate_30,3)} and the noise entropy is {round(HRS_estimate_30,3)} \\n')\n",
        "print(f'The bias in H(R) is {round(HR_exact - HR_estimate_30,3)} and the bias in H(R|S) is {round(HRS_exact - HRS_estimate_30,3)} \\n')"
      ],
      "execution_count": null,
      "outputs": [
        {
          "output_type": "stream",
          "text": [
            "numerical P(r|s):\n",
            " [[0.9 0.4 0. ]\n",
            " [0.1 0.6 0.1]\n",
            " [0.  0.  0.4]\n",
            " [0.  0.  0.5]] \n",
            "\n",
            "true P(r|s):\n",
            " [[0.66666667 0.27777778 0.05555556]\n",
            " [0.27777778 0.66666667 0.05555556]\n",
            " [0.02777778 0.02777778 0.44444444]\n",
            " [0.02777778 0.02777778 0.44444444]]\n",
            "\n",
            " For N = 30 samples, the response entropy is 1.85 and the noise entropy is 1.031 \n",
            "\n",
            "The bias in H(R) is 0.069 and the bias in H(R|S) is 0.264 \n",
            "\n"
          ],
          "name": "stdout"
        }
      ]
    },
    {
      "cell_type": "markdown",
      "metadata": {
        "id": "vx-Jl0_g-xqt"
      },
      "source": [
        "## Problem 3: bias in entropy and shuffling\n",
        "\n",
        "Consider a population of 2 neurons $n_a, n_b$ that each can generate 3 different responses. We have $3^2 = 9$ different responses and 2 stimuli that occur with equal probability. The response probabilities are represented in two matrices in the form:\n",
        "\n",
        "\\begin{align}\n",
        "  \\color{grey}{\\mathbb{p}(r_A, r_B | s_i) = \n",
        "  \\begin{pmatrix}\n",
        "  a_1 b_1 & a_1 b_2 & a_1 b_3 \\\\\n",
        "  a_2 b_1 & a_2 b_2 & a_2 b_3 \\\\\n",
        "  a_3 b_1 & a_3 b_2 & a_3 b_3\n",
        "  \\end{pmatrix}}\n",
        "\\end{align}\n",
        "\n",
        "where each element $a_i b_i$ represents the likelihood of the simultaneous response of the two neurons (adding all probabilities in the matrix should add up to 1). For stimulus $s_1$ and $s_2$ the probabilities are distributed as follows:\n",
        "\n",
        "\\begin{align}\n",
        "\\mathbb{p}(r_A, r_B | \\color{blue}{s_1}) = \n",
        "\\color{blue}{\n",
        "\\begin{pmatrix}\n",
        "\\frac{4}{18} & \\frac{3}{18} & \\frac{1}{18}\\\\\n",
        "\\frac{3}{18} & \\frac{4}{18} & \\frac{1}{18}\\\\\n",
        "\\frac{1}{18} & 0 & \\frac{1}{18}\\\\\n",
        "\\end{pmatrix}}\n",
        "\\end{align}\n",
        "\n",
        "\\begin{align}\n",
        "\\mathbb{p}(r_A, r_B | \\color{red}{s_2}) = \n",
        "\\color{red}{\n",
        "\\begin{pmatrix}\n",
        "\\frac{1}{18} & \\frac{7}{144} & \\frac{1}{144}\\\\\n",
        "\\frac{1}{18} & \\frac{4}{18}  & \\frac{3}{18}\\\\\n",
        "\\frac{1}{18} & \\frac{3}{18}  & \\frac{4}{18}\\\\\n",
        "\\end{pmatrix}}\n",
        "\\end{align}\n"
      ]
    },
    {
      "cell_type": "markdown",
      "metadata": {
        "id": "NN0HSofp-3_v"
      },
      "source": [
        "### 3a) \n"
      ]
    },
    {
      "cell_type": "code",
      "metadata": {
        "id": "Ec1Xh7VtkPo6"
      },
      "source": [
        "'''\n",
        "(0) Represent P(ra, rb | si) and prior as ndarray\n",
        "'''\n",
        "P_rab_s1 = np.array([[4/18, 3/18, 1/18],\n",
        "                    [3/18, 4/18, 1/18],\n",
        "                    [1/18, 0.0, 1/18]])\n",
        "\n",
        "P_rab_s2 = np.array([[1/18, 7/144, 1/144],\n",
        "                    [1/18, 4/18, 3/18],\n",
        "                    [1/18, 3/18, 4/18]])\n",
        "\n",
        "P_s = np.array([[1/2, 1/2]])"
      ],
      "execution_count": null,
      "outputs": []
    },
    {
      "cell_type": "code",
      "metadata": {
        "id": "RL4aMi6BLQKo"
      },
      "source": [
        "'''\n",
        "(1) Compute P(r) for all 9 * 2 responses\n",
        "\n",
        "(2) Compute H(R), the response entropy\n",
        "'''\n",
        "P_r = P_rab_s1 * P_s[0][0] + P_rab_s2 * P_s[0][1] \n",
        "\n",
        "H_R_exact = - np.sum(np.multiply(P_r, np.log2(P_r, where=P_r > 0))) "
      ],
      "execution_count": null,
      "outputs": []
    },
    {
      "cell_type": "code",
      "metadata": {
        "colab": {
          "base_uri": "https://localhost:8080/"
        },
        "id": "vS1SeWqWrZ92",
        "outputId": "12ef72a6-ba89-45ee-97a6-6f1ea771bad1"
      },
      "source": [
        "'''\n",
        "(3) Compute H(R|S), the noise entropy\n",
        "\n",
        "(4) Mutual information I(R|S) = H(R) - H(R|S)\n",
        "'''\n",
        "sum_s1 = np.sum(np.multiply(P_rab_s1, np.log2(P_rab_s1, where=P_rab_s1 > 0))) # sum over responses\n",
        "sum_s2 = np.sum(np.multiply(P_rab_s2, np.log2(P_rab_s2, where=P_rab_s2 > 0)))\n",
        "\n",
        "H_RS_exact = - float(np.dot(P_s, np.array([sum_s1, sum_s2])))\n",
        "I_RS = round(H_R_exact - H_RS_exact,3)\n",
        "\n",
        "print(f'The exact response entropy is: {round(H_R_exact,3)} and the exact noise entropy is: {round(H_RS_exact,3)}')\n",
        "print(f'Thus, the exact mutual information is: {I_RS}')"
      ],
      "execution_count": null,
      "outputs": [
        {
          "output_type": "stream",
          "text": [
            "The exact response entropy is: 3.011 and the exact noise entropy is: 2.768\n",
            "Thus, the exact mutual information is: 0.243\n"
          ],
          "name": "stdout"
        }
      ]
    },
    {
      "cell_type": "markdown",
      "metadata": {
        "id": "HsvGT8t9-4Mj"
      },
      "source": [
        "### 3b) \n",
        "\n",
        "We determine the bias in the entropy estimate for $N=100$ and 1000 samples."
      ]
    },
    {
      "cell_type": "code",
      "metadata": {
        "id": "lDyXoTGDwD5v"
      },
      "source": [
        "def generate_pairs(P_rs, Ns):\n",
        "  ''' Generate a number of response-stimulus pairs for each response in Ns\n",
        "  '''\n",
        "  pairs = np.zeros(Ns)\n",
        "  for r in range(Ns): \n",
        "    pairs[r] = np.random.choice(np.arange(1, 10), p=np.ndarray.flatten(P_rs))\n",
        "  return pairs"
      ],
      "execution_count": null,
      "outputs": []
    },
    {
      "cell_type": "code",
      "metadata": {
        "colab": {
          "base_uri": "https://localhost:8080/"
        },
        "id": "v1EQOOpRvJFq",
        "outputId": "bd071248-fb3e-461a-9ec8-dc310c91f3b6"
      },
      "source": [
        "'''\n",
        "(1) Generate stimulus response pairs \n",
        "\n",
        "(2) Calculate numerical estimates\n",
        "'''\n",
        "Ns = 50\n",
        "counts_s1 = []\n",
        "counts_s2 = []\n",
        "\n",
        "rs_pairs = np.zeros((Ns, 2))\n",
        "rs_pairs[:, 0] = generate_pairs(P_rab_s1, Ns)\n",
        "rs_pairs[:, 1] = generate_pairs(P_rab_s2, Ns)\n",
        "\n",
        "for res in np.arange(1, 10): # for each response in (1 -> 9)\n",
        "  # count occurrence\n",
        "  num_P_rab_s1 = np.count_nonzero(rs_pairs[:,0] == res) / Ns\n",
        "  num_P_rab_s2 = np.count_nonzero(rs_pairs[:,1] == res) / Ns\n",
        "  counts_s1.append(num_P_rab_s1)\n",
        "  counts_s2.append(num_P_rab_s2)\n",
        "\n",
        "num_Pr_s1 = np.array(counts_s1).reshape(3,3)\n",
        "num_Pr_s2 = np.array(counts_s2).reshape(3,3)\n",
        "\n",
        "print(f'Exact P(ra, rb|s1): \\n {P_rab_s1} \\n')\n",
        "print(f'Numerical P(ra, rb|s1): \\n {num_Pr_s1} \\n')\n",
        "\n",
        "\n",
        "print(f'Exact P(ra, rb|s2): \\n {P_rab_s2} \\n')\n",
        "print(f'Numerical P(ra, rb|s2): \\n {num_Pr_s2} \\n')"
      ],
      "execution_count": null,
      "outputs": [
        {
          "output_type": "stream",
          "text": [
            "Exact P(ra, rb|s1): \n",
            " [[0.22222222 0.16666667 0.05555556]\n",
            " [0.16666667 0.22222222 0.05555556]\n",
            " [0.05555556 0.         0.05555556]] \n",
            "\n",
            "Numerical P(ra, rb|s1): \n",
            " [[0.26 0.22 0.06]\n",
            " [0.14 0.2  0.04]\n",
            " [0.04 0.   0.04]] \n",
            "\n",
            "Exact P(ra, rb|s2): \n",
            " [[0.05555556 0.04861111 0.00694444]\n",
            " [0.05555556 0.22222222 0.16666667]\n",
            " [0.05555556 0.16666667 0.22222222]] \n",
            "\n",
            "Numerical P(ra, rb|s2): \n",
            " [[0.06 0.   0.02]\n",
            " [0.04 0.26 0.18]\n",
            " [0.06 0.22 0.16]] \n",
            "\n"
          ],
          "name": "stdout"
        }
      ]
    },
    {
      "cell_type": "code",
      "metadata": {
        "colab": {
          "base_uri": "https://localhost:8080/"
        },
        "id": "QRXAphTN1arC",
        "outputId": "00c46116-c960-4efa-b686-fb9b6e0e06bd"
      },
      "source": [
        "'''\n",
        "Compute H(R) and H(R|S) from these estimates (num => numerical)\n",
        "'''\n",
        "\n",
        "P_r_num = np.dot(num_Pr_s1, P_s[0][0]) + np.dot(num_Pr_s2, P_s[0][1]) \n",
        "\n",
        "H_R_num = - np.sum(np.multiply(P_r_num, np.log2(P_r_num, where=P_r_num>0)))\n",
        "\n",
        "s1_inner = np.sum(np.multiply(num_Pr_s1, np.log2(num_Pr_s1, where=num_Pr_s1 > 0)))\n",
        "s2_inner = np.sum(np.multiply(num_Pr_s2, np.log2(num_Pr_s2, where=num_Pr_s2 > 0)))\n",
        "\n",
        "H_RS_num = - float(np.dot(P_s, np.array([s1_inner, s2_inner])))\n",
        "\n",
        "num_I_RS = H_R_num - H_RS_num\n",
        "\n",
        "\n",
        "print(f'\\n For N = {Ns*2} samples, numerical H(R) is: {round(H_R_num, 3)} while the exact H(R) is: {round(HR_exact, 3)} --> bias: {round(HR_exact - H_R_num,3)}\\n')\n",
        "print(f'\\n The numerical H(R|S) is: {round(H_RS_num, 3)} while the exact H(R|S) is: {round(H_RS_exact, 3)} --> bias: {round(H_RS_exact - H_RS_num,3)} \\n')\n",
        "print(f'\\n The bias in mutual information I(R|S) is: {round(I_RS - num_I_RS, 3)}')"
      ],
      "execution_count": null,
      "outputs": [
        {
          "output_type": "stream",
          "text": [
            "\n",
            " For N = 100 samples, numerical H(R) is: 3.008 while the exact H(R) is: 1.918 --> bias: -1.09\n",
            "\n",
            "\n",
            " The numerical H(R|S) is: 2.644 while the exact H(R|S) is: 2.768 --> bias: 0.124 \n",
            "\n",
            "\n",
            " The bias in mutual information I(R|S) is: -0.121\n"
          ],
          "name": "stdout"
        }
      ]
    },
    {
      "cell_type": "markdown",
      "metadata": {
        "id": "ek5pDLQZS27S"
      },
      "source": [
        "## 3c & d)\n",
        "\n",
        "\\begin{align}\n",
        "H(N) = H_{\\text{naive}} - (H_{\\text{shuffle}} - H_{\\text{ind}}) \n",
        "\\end{align}\n",
        "\n",
        "We implement the shuffling procedure and report the results for a given trial:"
      ]
    },
    {
      "cell_type": "markdown",
      "metadata": {
        "id": "nNlXMKtf9TQL"
      },
      "source": [
        "Given\n",
        "\n",
        "\\begin{align}\n",
        "\\mathbb{p}(r_A, r_B | \\color{blue}{s_1}) = \n",
        "\\color{blue}{\n",
        "\\begin{pmatrix}\n",
        "\\frac{4}{18} & \\frac{3}{18} & \\frac{1}{18}\\\\\n",
        "\\frac{3}{18} & \\frac{4}{18} & \\frac{1}{18}\\\\\n",
        "\\frac{1}{18} & 0 & \\frac{1}{18}\\\\\n",
        "\\end{pmatrix}}\n",
        "\\end{align}\n",
        "and\n",
        "\\begin{align}\n",
        "\\mathbb{p}(r_A, r_B | \\color{red}{s_2}) = \n",
        "\\color{red}{\n",
        "\\begin{pmatrix}\n",
        "\\frac{1}{18} & \\frac{7}{144} & \\frac{1}{144}\\\\\n",
        "\\frac{1}{18} & \\frac{4}{18}  & \\frac{3}{18}\\\\\n",
        "\\frac{1}{18} & \\frac{3}{18}  & \\frac{4}{18}\\\\\n",
        "\\end{pmatrix}}\n",
        "\\end{align}\n",
        "\n",
        "we obtain the exact $\\mathbb{p}(r)$\n",
        "\n",
        "\\begin{align}\n",
        "\\mathbb{p}(r)_{\\text{exact}} = \\begin{pmatrix}\n",
        "  0.22  & 0.167 & 0.056 \\\\\n",
        "  0.167 & 0.22  & 0.056 \\\\\n",
        "  0.056 & 0.    & 0.056\n",
        "  \\end{pmatrix}\n",
        "\\end{align}\n",
        "\n",
        "and the numerical $\\mathbb{p}(r)$\n",
        "\n",
        "\\begin{align}\n",
        "\\mathbb{p}(r)_{\\text{numerical}} = \\begin{pmatrix}\n",
        "  0.24 & 0.1   & 0.01 \\\\\n",
        "  0.18 & 0.2   & 0.08 \\\\\n",
        "  0.06 & 0.04  & 0.0\n",
        "  \\end{pmatrix}\n",
        "\\end{align}\n",
        "\n"
      ]
    },
    {
      "cell_type": "markdown",
      "metadata": {
        "id": "fVCVFNOi-5-_"
      },
      "source": [
        "The exact entropy values are:\n",
        "\n",
        "\\begin{align}\n",
        "  H(R) = 3.011 \\qquad \\text{ and  } \\qquad H(R|S) = 2.768 \\rightarrow I(R|S) = 0.243 \\\\ \n",
        "\\end{align}\n",
        "\n",
        "---\n",
        "\n",
        "The `naive` simulation results with `N=100` are:\n",
        "\\begin{align}\n",
        "  H(R) = 3.048 \\qquad \\text{ and  } \\qquad H(R|S) = 2.701 \n",
        "\\end{align}\n",
        "The bias in $H(R)$ is 0.038 and the bias in $H(R|S)$ is -0.067 which means the bias in $I(R|S)$ (mutual information) is 0.105.\n",
        "\n",
        "---\n",
        "\n",
        "The `shuffled` simulation results with `N=100` are:\n",
        "\\begin{align}\n",
        "  H(R) = 3.116 \\qquad \\text{ and  } \\qquad H(R|S) = 2.811 \\\\\n",
        "\\end{align}\n",
        "\n",
        "Moreover, \n",
        "\\begin{align}\n",
        "  H(R | S)_{ind} = 0.989\n",
        "\\end{align}\n",
        "\n",
        "Thus, the estimated noise entropy with minimized bias is 0.879 and the `shuffled` information estimator is 2.169.\n",
        "\n",
        "We conclude that the shuffling procedure has minimised the bias with some amount, compared to the naive estimator."
      ]
    },
    {
      "cell_type": "markdown",
      "metadata": {
        "id": "yTtlUqYIQGRH"
      },
      "source": [
        "## Notes on entropy and information theory\n",
        "\n"
      ]
    },
    {
      "cell_type": "markdown",
      "metadata": {
        "id": "-kC5iU4dQWo8"
      },
      "source": [
        "\n",
        "---\n",
        "\n",
        "> the **Shannon information** content of an outcome $x$ is [2]:\n",
        "\\begin{align}\n",
        "    h(x) = \\log_2 \\frac{1}{\\mathbb{p}(x)}\n",
        "\\end{align}\n",
        "\n",
        "---\n",
        "\n",
        "The *entropy* $H(X)$ of an ensemble $X$ is the *average* Shannon information content of an outcome. In the context of neurons it may be the amount of surprise associated with a stimulus, which is stochastic. There are multiple different versions of entropy such as the Gibbs and Boltzmann entropy:\n",
        "\n",
        "---\n",
        "\n",
        "> The **Gibbs entropy** $H$ for a continuous process is defined as \n",
        "\\begin{align}\n",
        "  H(x) = - k \\int_x \\mathbb{p}(x) \\log_2 \\mathbb{p}(x) dx\n",
        "\\end{align}\n",
        "> or in the discrete case\n",
        "\\begin{align}\n",
        "  H(x) = - \\sum_i \\mathbb{p}(x_i) \\log_2 \\mathbb{p}(x_i)\n",
        "\\end{align}\n",
        "where we use $\\log_2(.)$ to get the result in bits. Entropy is a measure of how much is unknown about the system. In statistical terms, it indicates the variability of the distribution.\n",
        "\n",
        "---\n",
        "\n",
        "---\n",
        "\n",
        "> **Boltzmann entropy**\n",
        "\\begin{align}\n",
        "  H(X) = k_b \\log W\n",
        "\\end{align}\n",
        "where $W$ is the volume of a macrostate\n",
        "\n",
        "---\n",
        "Consider the 1D example of two distributions below, when $\\sigma$ is small, the distribution is dense, which is the same as saying that the variance is low. Here:\n",
        "- The density with $\\color{red}{\\sigma = 1}$ has a *low entropy*, which means we know a lot about the system.\n",
        "\n",
        "- The density with $\\color{blue}{\\sigma = 3}$ has a *high entropy*, which means we don't know a lot about the system (it is spread out). \n",
        "\n",
        "Thus, we can intuitively understand the following properties of entropy:\n",
        "- the entropy is maximised if $\\mathbb{p}$ is uniform\n",
        "- the entropy only depends on the variance $\\sigma$ (it is independent of the mean)\n",
        "- if $\\sigma \\rightarrow 0$ the density approaches a $\\delta$ function and hence entropy (uncertainty) decreases.\n",
        "\n",
        "---\n",
        "> The **Entropy rate** is the number of bits per second: (total entropy) / (time period).\n",
        "\n",
        "---\n"
      ]
    },
    {
      "cell_type": "markdown",
      "metadata": {
        "id": "4sElhZWAQTzO"
      },
      "source": [
        "![entropy.png](data:image/png;base64,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)"
      ]
    },
    {
      "cell_type": "markdown",
      "metadata": {
        "id": "JgQ1Cm6F9_yP"
      },
      "source": [
        "---\n",
        "\n",
        "> The **mutual information** $I$ is the difference between the response and the noise entropy, it measures how much the uncertainty is reduced:\n",
        "\\begin{align}\n",
        "I(R | S) &= \\color{darkred}{H(R)} - \\color{darkblue}{H(R|S)} \\\\\n",
        "         &=  \\color{darkred}{-\\sum_{r,s} \\mathbb{p}(r | s) \\mathbb{p}(s) \\log_2 \\mathbb{p}(r)} + \\color{darkblue}{\\sum_{r,s} \\mathbb{p}(s) \\mathbb{p}(r | s) \\log_2 \\mathbb{p}(r | s)} \\\\\n",
        "  &=  \\color{darkred}{-\\sum_{r} \\mathbb{p}(r) \\log_2 \\mathbb{p}(r)} + \\color{darkblue}{\\sum_{r,s} \\mathbb{p}(s) \\mathbb{p}(r | s) \\log_2 \\mathbb{p}(r | s)} \\\\\n",
        "  &= \\sum_{s} \\mathbb{p}(s) \\sum_{r} \\mathbb{p}(r | s) \\log_2 \\frac{ \\mathbb{p}(r|s)}{\\mathbb{p}(r)}\n",
        "\\end{align}\n",
        "\n",
        "---\n",
        "\n",
        "where $\\log_2 \\frac{ \\mathbb{p}(r|s)}{\\mathbb{p}(r)}$ is the distance between the two distributions. The greater the difference between the two distributions, the higher the entropy will be. Here we can see the relationship between the mutual information and the *KL divergence*. The mutual information is the average KL divergence between the distribution of R conditional on S and the distribution of R.\n",
        "\n",
        "---\n",
        "\n",
        "> The **Kronecker delta** (1D case) is defined as \n",
        "\\begin{align}\n",
        " \\delta_{ab} = \n",
        "  \\begin{cases}\n",
        "      1 & \\text{ if } a = b \\\\\n",
        "      0 & \\text{otherwise}\n",
        "  \\end{cases}\n",
        "\\end{align}\n",
        "\n",
        "---\n",
        "\n",
        "\n",
        "\n"
      ]
    },
    {
      "cell_type": "markdown",
      "metadata": {
        "id": "izEOO6-PcQ7y"
      },
      "source": [
        "### Bias correction methods"
      ]
    },
    {
      "cell_type": "markdown",
      "metadata": {
        "id": "jDR9wWemcT7J"
      },
      "source": [
        "In order to calculate the entropy and (mutual) information of spike trains we need to collect data to make estimates of the underlying probability distributions. What if we don't have sufficient data? Events with a low probability are likely to be unobserved which leads to a lower estimate of the entropy. In other words, the entropy is biased downwards. \n",
        "\n",
        "We want to correct for this bias because our metrics, such as mutual information, rely on the difference of two entropies. Here are 3 methods that can be used to perform bias correction\n",
        "\n",
        "---\n",
        "\n",
        "> (1) **Strong's method** \n",
        "\n",
        "---\n",
        "\n",
        "---\n",
        "\n",
        "> (2) The **Shuffling** approach\n",
        "---\n",
        "\n",
        "---\n",
        "\n",
        "> (3) **Bayesian** methods\n",
        "\n",
        "---"
      ]
    },
    {
      "cell_type": "markdown",
      "metadata": {
        "id": "zZm0gjJ0L_Mr"
      },
      "source": [
        "## Sources\n",
        "\n",
        "[1] Lecture 4 notes Paul Tiesinga \n",
        "\n",
        "[2] Mackay Chapter 1 on Information Theory\n",
        "\n",
        "[3] Theoretical Neuroscience, Dayan and Abbot, Section 4.3 (p.145)"
      ]
    }
  ]
}